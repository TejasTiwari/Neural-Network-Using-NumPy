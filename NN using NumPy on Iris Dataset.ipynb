{
 "cells": [
  {
   "cell_type": "code",
   "execution_count": 5,
   "metadata": {},
   "outputs": [
    {
     "data": {
      "text/html": [
       "<div>\n",
       "<style scoped>\n",
       "    .dataframe tbody tr th:only-of-type {\n",
       "        vertical-align: middle;\n",
       "    }\n",
       "\n",
       "    .dataframe tbody tr th {\n",
       "        vertical-align: top;\n",
       "    }\n",
       "\n",
       "    .dataframe thead th {\n",
       "        text-align: right;\n",
       "    }\n",
       "</style>\n",
       "<table border=\"1\" class=\"dataframe\">\n",
       "  <thead>\n",
       "    <tr style=\"text-align: right;\">\n",
       "      <th></th>\n",
       "      <th>Id</th>\n",
       "      <th>SepalLengthCm</th>\n",
       "      <th>SepalWidthCm</th>\n",
       "      <th>PetalLengthCm</th>\n",
       "      <th>PetalWidthCm</th>\n",
       "      <th>Species</th>\n",
       "    </tr>\n",
       "  </thead>\n",
       "  <tbody>\n",
       "    <tr>\n",
       "      <th>0</th>\n",
       "      <td>1</td>\n",
       "      <td>5.1</td>\n",
       "      <td>3.5</td>\n",
       "      <td>1.4</td>\n",
       "      <td>0.2</td>\n",
       "      <td>Iris-setosa</td>\n",
       "    </tr>\n",
       "    <tr>\n",
       "      <th>1</th>\n",
       "      <td>2</td>\n",
       "      <td>4.9</td>\n",
       "      <td>3.0</td>\n",
       "      <td>1.4</td>\n",
       "      <td>0.2</td>\n",
       "      <td>Iris-setosa</td>\n",
       "    </tr>\n",
       "    <tr>\n",
       "      <th>2</th>\n",
       "      <td>3</td>\n",
       "      <td>4.7</td>\n",
       "      <td>3.2</td>\n",
       "      <td>1.3</td>\n",
       "      <td>0.2</td>\n",
       "      <td>Iris-setosa</td>\n",
       "    </tr>\n",
       "    <tr>\n",
       "      <th>3</th>\n",
       "      <td>4</td>\n",
       "      <td>4.6</td>\n",
       "      <td>3.1</td>\n",
       "      <td>1.5</td>\n",
       "      <td>0.2</td>\n",
       "      <td>Iris-setosa</td>\n",
       "    </tr>\n",
       "    <tr>\n",
       "      <th>4</th>\n",
       "      <td>5</td>\n",
       "      <td>5.0</td>\n",
       "      <td>3.6</td>\n",
       "      <td>1.4</td>\n",
       "      <td>0.2</td>\n",
       "      <td>Iris-setosa</td>\n",
       "    </tr>\n",
       "  </tbody>\n",
       "</table>\n",
       "</div>"
      ],
      "text/plain": [
       "   Id  SepalLengthCm  SepalWidthCm  PetalLengthCm  PetalWidthCm      Species\n",
       "0   1            5.1           3.5            1.4           0.2  Iris-setosa\n",
       "1   2            4.9           3.0            1.4           0.2  Iris-setosa\n",
       "2   3            4.7           3.2            1.3           0.2  Iris-setosa\n",
       "3   4            4.6           3.1            1.5           0.2  Iris-setosa\n",
       "4   5            5.0           3.6            1.4           0.2  Iris-setosa"
      ]
     },
     "execution_count": 5,
     "metadata": {},
     "output_type": "execute_result"
    }
   ],
   "source": [
    "import numpy as np\n",
    "import pandas as pd\n",
    "from sklearn.model_selection import train_test_split\n",
    "\n",
    "dat= pd.read_csv(\"Dataset/Iris.csv\")\n",
    "dat.head()"
   ]
  },
  {
   "cell_type": "code",
   "execution_count": 6,
   "metadata": {},
   "outputs": [],
   "source": [
    "def to_binary(mat):\n",
    "    n= np.amax(mat)+1\n",
    "    binary= np.zeros((len(mat), n))\n",
    "    for i in range(len(mat)):\n",
    "        binary[i, mat[i]]=1\n",
    "    return binary\n",
    "\n",
    "def from_binary(mat):\n",
    "    arr= np.zeros(len(mat), 1)\n",
    "    for i in range(len(mat)):\n",
    "        x= output_layer[i]\n",
    "        for j in range(len(x)):\n",
    "            if(x[j]== 1):\n",
    "                arr[i]= j+1\n",
    "    return arr\n",
    "\n",
    "def sigmoid(x):\n",
    "    return 1/(1+ np.exp(-x))\n",
    "\n",
    "def dsigmoid(x):\n",
    "    return sigmoid(x)*(1-sigmoid(x))\n",
    "def normal(x, axis= 1, order =2):\n",
    "    p= np.atleast_1d(np.linalg.norm(x, order, axis))\n",
    "    p[p==0]=1\n",
    "    return x/np.expand_dims(p, axis)"
   ]
  },
  {
   "cell_type": "code",
   "execution_count": 7,
   "metadata": {},
   "outputs": [],
   "source": [
    "dat['Species'].replace(['Iris-setosa', 'Iris-virginica', 'Iris-versicolor'], [0,1,2], inplace= True)\n",
    "\n",
    "columns = ['SepalLengthCm', 'SepalWidthCm', 'PetalLengthCm', 'PetalWidthCm']\n",
    "x = pd.DataFrame(dat, columns=columns)\n",
    "x= x[['SepalLengthCm', 'SepalWidthCm', 'PetalLengthCm', 'PetalWidthCm']].to_numpy()\n",
    "x= normal(x)\n",
    "\n",
    "columns = ['Species']\n",
    "y = pd.DataFrame(dat, columns=columns)\n",
    "y = y[['Species']].to_numpy()\n",
    "y = y.flatten()\n",
    "y = to_binary(y)\n",
    "\n",
    "X_train, X_test, y_train, y_test = train_test_split(x, y, test_size=0.33)"
   ]
  },
  {
   "cell_type": "code",
   "execution_count": 8,
   "metadata": {},
   "outputs": [],
   "source": [
    "w0 = 2*np.random.random((4, 5)) - 1\n",
    "w1 = 2*np.random.random((5, 3)) - 1\n",
    "\n",
    "n = 0.1\n",
    "errors = []\n",
    "\n",
    "for i in range(100000):\n",
    "\n",
    "    input_layer = X_train\n",
    "    hidden_layer = sigmoid(np.dot(input_layer, w0))\n",
    "    output_layer = sigmoid(np.dot(hidden_layer, w1))\n",
    "\n",
    "    output_layer_error = y_train - output_layer\n",
    "    output_layer_delta = output_layer_error * dsigmoid(output_layer)\n",
    "    \n",
    "    hidden_layer_error = output_layer_delta.dot(w1.T)\n",
    "    hidden_layer_delta = hidden_layer_error * dsigmoid(hidden_layer)\n",
    "    \n",
    "    w1 += hidden_layer.T.dot(output_layer_delta) * n\n",
    "    w0 += input_layer.T.dot(hidden_layer_delta) * n\n",
    "    \n",
    "    error = np.mean(np.abs(output_layer_error))\n",
    "    errors.append(error)\n",
    "    accuracy = (1 - error) * 100"
   ]
  },
  {
   "cell_type": "code",
   "execution_count": 9,
   "metadata": {},
   "outputs": [
    {
     "name": "stdout",
     "output_type": "stream",
     "text": [
      "Training Accuracy:- 97.49785345630139%\n",
      "Accuracy for validation:- 97.1%\n"
     ]
    }
   ],
   "source": [
    "print(\"Training Accuracy:- \" + str(accuracy) + \"%\")\n",
    "\n",
    "input_layer = X_test\n",
    "hidden_layer = sigmoid(np.dot(input_layer, w0))\n",
    "output_layer = sigmoid(np.dot(hidden_layer, w1))\n",
    "\n",
    "output_layer_error = y_test - output_layer\n",
    "\n",
    "error = np.mean(np.abs(output_layer_error))\n",
    "accuracy = (1 - error) * 100\n",
    "\n",
    "print(\"Accuracy for validation:- \" + str(round(accuracy,2)) + \"%\")"
   ]
  },
  {
   "cell_type": "code",
   "execution_count": null,
   "metadata": {},
   "outputs": [],
   "source": []
  }
 ],
 "metadata": {
  "kernelspec": {
   "display_name": "Python 3",
   "language": "python",
   "name": "python3"
  },
  "language_info": {
   "codemirror_mode": {
    "name": "ipython",
    "version": 3
   },
   "file_extension": ".py",
   "mimetype": "text/x-python",
   "name": "python",
   "nbconvert_exporter": "python",
   "pygments_lexer": "ipython3",
   "version": "3.6.8"
  }
 },
 "nbformat": 4,
 "nbformat_minor": 4
}
